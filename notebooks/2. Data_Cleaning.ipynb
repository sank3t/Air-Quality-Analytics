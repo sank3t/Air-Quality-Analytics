{
 "cells": [
  {
   "cell_type": "code",
   "execution_count": 1,
   "metadata": {},
   "outputs": [],
   "source": [
    "import os\n",
    "\n",
    "from glob import glob\n",
    "from datetime import datetime\n",
    "\n",
    "import numpy as np\n",
    "import pandas as pd"
   ]
  },
  {
   "cell_type": "code",
   "execution_count": 2,
   "metadata": {},
   "outputs": [],
   "source": [
    "base_location = \"../data/raw\"\n",
    "files = sorted(glob(f\"{base_location}/*.txt\"))"
   ]
  },
  {
   "cell_type": "markdown",
   "metadata": {},
   "source": [
    "## Creating directory for dumping"
   ]
  },
  {
   "cell_type": "code",
   "execution_count": 3,
   "metadata": {},
   "outputs": [],
   "source": [
    "os.makedirs(\"../data/cleaned/\", exist_ok=True)"
   ]
  },
  {
   "cell_type": "markdown",
   "metadata": {},
   "source": [
    "## Processing the raw txt files"
   ]
  },
  {
   "cell_type": "code",
   "execution_count": 4,
   "metadata": {},
   "outputs": [],
   "source": [
    "def read_metadata(line_gen):\n",
    "    country = next(line_gen).strip(\"% \").split(\" \")[-1]\n",
    "    \n",
    "    next(line_gen)\n",
    "    city = next(line_gen).strip(\"% \").split(\" \")[-1]\n",
    "    \n",
    "    state = \" \".join(next(line_gen).strip(\"% \").split(\" \")[1:])\n",
    "    next(line_gen)\n",
    "    \n",
    "    population = int(next(line_gen).strip(\"% \").split(\" \")[-1])\n",
    "    latitude = float(next(line_gen).strip(\"% \").split(\" \")[-1])\n",
    "    longitude = float(next(line_gen).strip(\"% \").split(\" \")[-1])\n",
    "    \n",
    "    return [country, city, state, population, latitude, longitude]"
   ]
  },
  {
   "cell_type": "code",
   "execution_count": 5,
   "metadata": {},
   "outputs": [],
   "source": [
    "def read_rows(line_gen):\n",
    "    next(line_gen)\n",
    "    next(line_gen)\n",
    "    \n",
    "    aq_rows = []\n",
    "    \n",
    "    for row in line_gen:\n",
    "        splitted_row = row.split(\"\\t\")\n",
    "        \n",
    "        if len(splitted_row) > 1:\n",
    "            record_time = f\"{'-'.join(splitted_row[:3])} {splitted_row[3]}\"\n",
    "            \n",
    "            # Standardizing the time format\n",
    "            record_time = datetime.strftime(\n",
    "                datetime.strptime(\n",
    "                    record_time, \n",
    "                    \"%Y-%m-%d %H\"\n",
    "                ),\n",
    "                \"%Y-%m-%d %H:%M:%S\"\n",
    "            )\n",
    "            \n",
    "            pm_25 = float(splitted_row[4])\n",
    "            aq_rows.append([record_time, pm_25])\n",
    "    \n",
    "    return np.array(aq_rows)"
   ]
  },
  {
   "cell_type": "code",
   "execution_count": 6,
   "metadata": {
    "scrolled": false
   },
   "outputs": [
    {
     "name": "stdout",
     "output_type": "stream",
     "text": [
      "Dumping raw txt to CSV for Aligarh\n",
      "Dumped successfully!!\n",
      "--------------------------------------------------\n",
      "Dumping raw txt to CSV for Bengaluru\n",
      "Dumped successfully!!\n",
      "--------------------------------------------------\n",
      "Dumping raw txt to CSV for Gurgaon\n",
      "Dumped successfully!!\n",
      "--------------------------------------------------\n",
      "Dumping raw txt to CSV for Mohali\n",
      "Dumped successfully!!\n",
      "--------------------------------------------------\n"
     ]
    }
   ],
   "source": [
    "metadata = []\n",
    "\n",
    "for file in files:\n",
    "    city = file.split(\"/\")[-1].strip(\".txt\")\n",
    "    \n",
    "    print(f\"Dumping raw txt to CSV for {city.capitalize()}\")\n",
    "    with open(file) as fp:\n",
    "        content = fp.read()\n",
    "    \n",
    "    content_gen = (line for line in content.split(\"\\n\"))\n",
    "    \n",
    "    # Reading metadata\n",
    "    metadata.append(read_metadata(content_gen))\n",
    "    \n",
    "    # Dumping air quality data to CSV\n",
    "    city_aq_df = pd.DataFrame(read_rows(content_gen), columns=[\"timestamp_utc\", \"pm2.5\"])\n",
    "    city_aq_df.to_csv(f\"../data/cleaned/{city}_aq.csv\", index=False)\n",
    "    \n",
    "    print(f\"Dumped successfully!!\")\n",
    "    print(\"-\" * 50)"
   ]
  },
  {
   "cell_type": "code",
   "execution_count": 7,
   "metadata": {},
   "outputs": [
    {
     "data": {
      "text/html": [
       "<div>\n",
       "<style scoped>\n",
       "    .dataframe tbody tr th:only-of-type {\n",
       "        vertical-align: middle;\n",
       "    }\n",
       "\n",
       "    .dataframe tbody tr th {\n",
       "        vertical-align: top;\n",
       "    }\n",
       "\n",
       "    .dataframe thead th {\n",
       "        text-align: right;\n",
       "    }\n",
       "</style>\n",
       "<table border=\"1\" class=\"dataframe\">\n",
       "  <thead>\n",
       "    <tr style=\"text-align: right;\">\n",
       "      <th></th>\n",
       "      <th>country</th>\n",
       "      <th>city</th>\n",
       "      <th>state</th>\n",
       "      <th>population</th>\n",
       "      <th>lat</th>\n",
       "      <th>lon</th>\n",
       "    </tr>\n",
       "  </thead>\n",
       "  <tbody>\n",
       "    <tr>\n",
       "      <th>0</th>\n",
       "      <td>India</td>\n",
       "      <td>Aligarh</td>\n",
       "      <td>Uttar Pradesh</td>\n",
       "      <td>753207</td>\n",
       "      <td>27.8815</td>\n",
       "      <td>78.0746</td>\n",
       "    </tr>\n",
       "    <tr>\n",
       "      <th>1</th>\n",
       "      <td>India</td>\n",
       "      <td>Bengaluru</td>\n",
       "      <td>Karnataka</td>\n",
       "      <td>5104047</td>\n",
       "      <td>12.9719</td>\n",
       "      <td>77.5937</td>\n",
       "    </tr>\n",
       "    <tr>\n",
       "      <th>2</th>\n",
       "      <td>India</td>\n",
       "      <td>Gurgaon</td>\n",
       "      <td>Haryana</td>\n",
       "      <td>197340</td>\n",
       "      <td>28.4601</td>\n",
       "      <td>77.0263</td>\n",
       "    </tr>\n",
       "    <tr>\n",
       "      <th>3</th>\n",
       "      <td>India</td>\n",
       "      <td>Mohali</td>\n",
       "      <td>Punjab</td>\n",
       "      <td>123484</td>\n",
       "      <td>30.6800</td>\n",
       "      <td>76.7221</td>\n",
       "    </tr>\n",
       "  </tbody>\n",
       "</table>\n",
       "</div>"
      ],
      "text/plain": [
       "  country       city          state  population      lat      lon\n",
       "0   India    Aligarh  Uttar Pradesh      753207  27.8815  78.0746\n",
       "1   India  Bengaluru      Karnataka     5104047  12.9719  77.5937\n",
       "2   India    Gurgaon        Haryana      197340  28.4601  77.0263\n",
       "3   India     Mohali         Punjab      123484  30.6800  76.7221"
      ]
     },
     "metadata": {},
     "output_type": "display_data"
    }
   ],
   "source": [
    "metadata_df = pd.DataFrame(\n",
    "    metadata,\n",
    "    columns=[\"country\", \"city\", \"state\", \"population\", \"lat\", \"lon\"]\n",
    ")\n",
    "\n",
    "display(metadata_df)"
   ]
  },
  {
   "cell_type": "markdown",
   "metadata": {},
   "source": [
    "### Dumping metadata to CSV"
   ]
  },
  {
   "cell_type": "code",
   "execution_count": 8,
   "metadata": {},
   "outputs": [],
   "source": [
    "metadata_df.to_csv(\"../data/cleaned/aq_metadata.csv\", index=False)"
   ]
  }
 ],
 "metadata": {
  "kernelspec": {
   "display_name": "Python 3",
   "language": "python",
   "name": "python3"
  },
  "language_info": {
   "codemirror_mode": {
    "name": "ipython",
    "version": 3
   },
   "file_extension": ".py",
   "mimetype": "text/x-python",
   "name": "python",
   "nbconvert_exporter": "python",
   "pygments_lexer": "ipython3",
   "version": "3.8.10"
  }
 },
 "nbformat": 4,
 "nbformat_minor": 4
}
