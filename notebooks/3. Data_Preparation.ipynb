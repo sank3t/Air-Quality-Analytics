{
 "cells": [
  {
   "cell_type": "code",
   "execution_count": 1,
   "metadata": {},
   "outputs": [],
   "source": [
    "import os\n",
    "from glob import glob\n",
    "\n",
    "import pandas as pd"
   ]
  },
  {
   "cell_type": "code",
   "execution_count": 2,
   "metadata": {},
   "outputs": [
    {
     "data": {
      "text/plain": [
       "['../data/cleaned/aligarh_aq.csv',\n",
       " '../data/cleaned/bengaluru_aq.csv',\n",
       " '../data/cleaned/gurgaon_aq.csv',\n",
       " '../data/cleaned/mohali_aq.csv']"
      ]
     },
     "execution_count": 2,
     "metadata": {},
     "output_type": "execute_result"
    }
   ],
   "source": [
    "files = glob(\"../data/cleaned/*_aq.csv\")\n",
    "\n",
    "files"
   ]
  },
  {
   "cell_type": "markdown",
   "metadata": {},
   "source": [
    "## COVID-19 lockdown in India\n",
    "\n",
    "According to the [Wikipedia](https://en.wikipedia.org/wiki/COVID-19_lockdown_in_India) the lockdown was came into effect from **25 March 2020**.\n",
    "\n",
    "Will filter the collected data of hourly air quality from [Berkeley Earth](https://berkeleyearth.org/) from **01 Jan 2020** to **30 Sep 2021** and try to analyze the impact of lockdown on the air quality."
   ]
  },
  {
   "cell_type": "code",
   "execution_count": 3,
   "metadata": {},
   "outputs": [],
   "source": [
    "# Creating directory for dumping the filtered data\n",
    "os.makedirs(\"../data/filtered/\", exist_ok=True)"
   ]
  },
  {
   "cell_type": "code",
   "execution_count": 4,
   "metadata": {},
   "outputs": [
    {
     "name": "stdout",
     "output_type": "stream",
     "text": [
      "Data filtered and dumped for Aligarh\n",
      "----------------------------------------\n",
      "Data filtered and dumped for Bengaluru\n",
      "----------------------------------------\n",
      "Data filtered and dumped for Gurgaon\n",
      "----------------------------------------\n",
      "Data filtered and dumped for Mohali\n",
      "----------------------------------------\n"
     ]
    }
   ],
   "source": [
    "start_date = \"2020-01-01 00:00:00\"\n",
    "end_date = \"2021-09-30 23:59:59\"\n",
    "\n",
    "for file in files:\n",
    "    city = file.split(\"/\")[-1].strip(\".csv\").split(\"_\")[0]\n",
    "    aq_df = pd.read_csv(file, parse_dates=[\"timestamp_utc\"])\n",
    "    \n",
    "    # Filtering the data\n",
    "    aq_df = aq_df[\n",
    "        (start_date <= aq_df.timestamp_utc) & \n",
    "        (aq_df.timestamp_utc <= end_date)\n",
    "    ]\n",
    "    \n",
    "    # Dumping the data to CSV\n",
    "    aq_df.to_csv(f\"../data/filtered/{city}.csv\", index=False)\n",
    "    \n",
    "    print(f\"Data filtered and dumped for {city.capitalize()}\")\n",
    "    print(\"-\" * 40)"
   ]
  }
 ],
 "metadata": {
  "kernelspec": {
   "display_name": "Python 3",
   "language": "python",
   "name": "python3"
  },
  "language_info": {
   "codemirror_mode": {
    "name": "ipython",
    "version": 3
   },
   "file_extension": ".py",
   "mimetype": "text/x-python",
   "name": "python",
   "nbconvert_exporter": "python",
   "pygments_lexer": "ipython3",
   "version": "3.8.10"
  }
 },
 "nbformat": 4,
 "nbformat_minor": 4
}
