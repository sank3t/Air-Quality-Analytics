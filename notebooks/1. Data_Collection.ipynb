{
 "cells": [
  {
   "cell_type": "code",
   "execution_count": 1,
   "metadata": {},
   "outputs": [],
   "source": [
    "import os\n",
    "\n",
    "import requests"
   ]
  },
  {
   "cell_type": "code",
   "execution_count": 2,
   "metadata": {},
   "outputs": [],
   "source": [
    "base_url = \"http://berkeleyearth.lbl.gov/air-quality/maps/cities/India\"\n",
    "dump_location = \"../data/raw\"\n",
    "\n",
    "cities_url_dict = {\n",
    "    \"Aligarh\": \"Uttar_Pradesh/Aligarh.txt\",\n",
    "    \"Chandigarh\": \"Chandigarh/Chandigarh.txt\",\n",
    "    \"Gurgaon\": \"Haryana/Gurgaon.txt\",\n",
    "    \"Bengaluru\": \"Karnataka/Bengaluru.txt\"\n",
    "}"
   ]
  },
  {
   "cell_type": "markdown",
   "metadata": {},
   "source": [
    "## Creating dump directory"
   ]
  },
  {
   "cell_type": "code",
   "execution_count": 3,
   "metadata": {},
   "outputs": [],
   "source": [
    "os.makedirs(f\"{dump_location}\", exist_ok=True)"
   ]
  },
  {
   "cell_type": "code",
   "execution_count": 4,
   "metadata": {},
   "outputs": [
    {
     "name": "stdout",
     "output_type": "stream",
     "text": [
      "Getting the air-quality data for 'Aligarh'\n",
      "Received status code as 200!!\n",
      "Dumping the air quality data as .txt file\n",
      "File dumped successfully!!\n",
      "--------------------------------------------------\n",
      "Getting the air-quality data for 'Chandigarh'\n",
      "Received status code as 200!!\n",
      "Dumping the air quality data as .txt file\n",
      "File dumped successfully!!\n",
      "--------------------------------------------------\n",
      "Getting the air-quality data for 'Gurgaon'\n",
      "Received status code as 200!!\n",
      "Dumping the air quality data as .txt file\n",
      "File dumped successfully!!\n",
      "--------------------------------------------------\n",
      "Getting the air-quality data for 'Bengaluru'\n",
      "Received status code as 200!!\n",
      "Dumping the air quality data as .txt file\n",
      "File dumped successfully!!\n",
      "--------------------------------------------------\n"
     ]
    }
   ],
   "source": [
    "for city, file_location in cities_url_dict.items():\n",
    "    print(f\"Getting the air-quality data for '{city}'\")\n",
    "    \n",
    "    file_name = file_location.split(\"/\")[1].lower()\n",
    "    \n",
    "    # Sending request\n",
    "    response = requests.get(f\"{base_url}/{file_location}\")\n",
    "    \n",
    "    # Validating status code\n",
    "    if response.status_code == 200:\n",
    "        print(\"Received status code as 200!!\")\n",
    "        print(\"Dumping the air quality data as .txt file\")\n",
    "        \n",
    "        with open(f\"{dump_location}/{file_name}\", \"w+\") as fp:\n",
    "            fp.write(response.text)\n",
    "        \n",
    "        print(\"File dumped successfully!!\")\n",
    "    \n",
    "    else:\n",
    "        print(f\"Received status code as: {response.status_code}\")\n",
    "        print(\"Either the server might be down or the file might be moved!!\")\n",
    "    \n",
    "    print(\"-\"*50)"
   ]
  }
 ],
 "metadata": {
  "kernelspec": {
   "display_name": "Python 3",
   "language": "python",
   "name": "python3"
  },
  "language_info": {
   "codemirror_mode": {
    "name": "ipython",
    "version": 3
   },
   "file_extension": ".py",
   "mimetype": "text/x-python",
   "name": "python",
   "nbconvert_exporter": "python",
   "pygments_lexer": "ipython3",
   "version": "3.8.10"
  }
 },
 "nbformat": 4,
 "nbformat_minor": 4
}
